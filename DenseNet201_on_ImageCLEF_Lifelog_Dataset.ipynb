{
  "nbformat": 4,
  "nbformat_minor": 0,
  "metadata": {
    "colab": {
      "name": "DenseNet201 on ImageCLEF Lifelog Dataset.ipynb",
      "provenance": [],
      "collapsed_sections": [],
      "machine_shape": "hm",
      "include_colab_link": true
    },
    "kernelspec": {
      "name": "python3",
      "display_name": "Python 3"
    },
    "accelerator": "TPU"
  },
  "cells": [
    {
      "cell_type": "markdown",
      "metadata": {
        "id": "view-in-github",
        "colab_type": "text"
      },
      "source": [
        "<a href=\"https://colab.research.google.com/github/aminejarraya/ImageClef-Lifelog-2020/blob/main/DenseNet201_on_ImageCLEF_Lifelog_Dataset.ipynb\" target=\"_parent\"><img src=\"https://colab.research.google.com/assets/colab-badge.svg\" alt=\"Open In Colab\"/></a>"
      ]
    },
    {
      "cell_type": "markdown",
      "metadata": {
        "id": "Zeuy7ooBuOZV"
      },
      "source": [
        "# Introduction\n",
        "\n",
        "\n",
        "In this notebook, we implement [Densenet201](https://keras.io/api/applications/densenet/#densenet201-function) for training on the [ImageCLEF Lifelog Dataset](https://www.imageclef.org/2020/lifelog)."
      ]
    },
    {
      "cell_type": "markdown",
      "metadata": {
        "id": "p01KXUYtb4cg"
      },
      "source": [
        "#Import Drive\n",
        "Import your drive into your Goole Colab's content"
      ]
    },
    {
      "cell_type": "code",
      "metadata": {
        "id": "TYMuRnZD8x25",
        "outputId": "62e74e2c-7fcd-4f60-f6c6-a914c41734aa",
        "colab": {
          "base_uri": "https://localhost:8080/",
          "height": 120
        }
      },
      "source": [
        "from google.colab import drive\n",
        "drive.mount(\"/content/drive/\")"
      ],
      "execution_count": null,
      "outputs": [
        {
          "output_type": "stream",
          "text": [
            "Go to this URL in a browser: https://accounts.google.com/o/oauth2/auth?client_id=947318989803-6bn6qk8qdgf4n4g3pfee6491hc0brc4i.apps.googleusercontent.com&redirect_uri=urn%3aietf%3awg%3aoauth%3a2.0%3aoob&response_type=code&scope=email%20https%3a%2f%2fwww.googleapis.com%2fauth%2fdocs.test%20https%3a%2f%2fwww.googleapis.com%2fauth%2fdrive%20https%3a%2f%2fwww.googleapis.com%2fauth%2fdrive.photos.readonly%20https%3a%2f%2fwww.googleapis.com%2fauth%2fpeopleapi.readonly\n",
            "\n",
            "Enter your authorization code:\n",
            "··········\n",
            "Mounted at /content/drive/\n"
          ],
          "name": "stdout"
        }
      ]
    },
    {
      "cell_type": "markdown",
      "metadata": {
        "id": "euaqeILAczkQ"
      },
      "source": [
        "#Import Packages\n",
        "Import the necessary packages"
      ]
    },
    {
      "cell_type": "code",
      "metadata": {
        "id": "m6P6UMyU835n"
      },
      "source": [
        "import pandas as pd\n",
        "import tensorflow as tf\n",
        "from tensorflow.keras.callbacks import *\n",
        "from sklearn.preprocessing import MultiLabelBinarizer\n",
        "from tensorflow.keras.applications import DenseNet201\n",
        "from tensorflow.keras.preprocessing.image import ImageDataGenerator\n",
        "from sklearn.model_selection import train_test_split\n",
        "from tensorflow.keras.preprocessing.image import img_to_array\n",
        "from tensorflow.keras.preprocessing.image import load_img\n",
        "from tensorflow.keras import optimizers\n",
        "import matplotlib.pyplot as plt\n",
        "import tensorflow.keras.backend as K\n",
        "import numpy as np\n",
        "import cv2\n",
        "from tensorflow.keras.models import  Model \n",
        "from tensorflow.keras.layers import Dense\n",
        "from keras.applications.densenet import preprocess_input"
      ],
      "execution_count": null,
      "outputs": []
    },
    {
      "cell_type": "markdown",
      "metadata": {
        "id": "djlTqiZsd5g4"
      },
      "source": [
        "#Load Dataset\n",
        "Reading csv file from Drive"
      ]
    },
    {
      "cell_type": "code",
      "metadata": {
        "id": "eDtZ2Gj19AYZ",
        "outputId": "58de59ed-ff08-4964-e6df-bb9d3c5e9839",
        "colab": {
          "base_uri": "https://localhost:8080/",
          "height": 70
        }
      },
      "source": [
        "cop = pd.read_csv(\"/content/drive/My Drive/Kilua.csv\")"
      ],
      "execution_count": null,
      "outputs": [
        {
          "output_type": "stream",
          "text": [
            "/usr/local/lib/python3.6/dist-packages/IPython/core/interactiveshell.py:2718: DtypeWarning: Columns (80,82,83,85,86,88,89,91,92,94,95,97,98,100,101,103,104,106,107,109,110,112,113,115,116,118,119,121,122,124,125,127,128,130,131,133,134,136,137,139,140,142,143,145,146,148,149,151,152,154,155,157,158,160,161,163,164,166,167,169,170,172,173,175,176,178,179,181,182,184,185,187,188,190,191,193,194,196) have mixed types.Specify dtype option on import or set low_memory=False.\n",
            "  interactivity=interactivity, compiler=compiler, result=result)\n"
          ],
          "name": "stderr"
        }
      ]
    },
    {
      "cell_type": "code",
      "metadata": {
        "id": "f6xqakbX9EVw",
        "outputId": "470651a5-582d-40f8-ef7e-0eef95ce5429",
        "colab": {
          "base_uri": "https://localhost:8080/",
          "height": 120
        }
      },
      "source": [
        "#Convert tags from String to list of Strings\n",
        "import ast \n",
        "for i in range(cop.shape[0]):\n",
        "  cop['tags'][i] = ast.literal_eval(cop['tags'][i]) "
      ],
      "execution_count": null,
      "outputs": [
        {
          "output_type": "stream",
          "text": [
            "/usr/local/lib/python3.6/dist-packages/ipykernel_launcher.py:3: SettingWithCopyWarning: \n",
            "A value is trying to be set on a copy of a slice from a DataFrame\n",
            "\n",
            "See the caveats in the documentation: https://pandas.pydata.org/pandas-docs/stable/user_guide/indexing.html#returning-a-view-versus-a-copy\n",
            "  This is separate from the ipykernel package so we can avoid doing imports until\n"
          ],
          "name": "stderr"
        }
      ]
    },
    {
      "cell_type": "markdown",
      "metadata": {
        "id": "OdSa3g-7e-uY"
      },
      "source": [
        "#Image Preprocessing\n",
        "Generating Images with ImageDataGenerator Library"
      ]
    },
    {
      "cell_type": "code",
      "metadata": {
        "id": "HbGntSuS9F66"
      },
      "source": [
        "#We will accept the original data, randomly transforms it, and returns only a new transformed rescaled data\n",
        "#Initialize an our data augmenter as an \"empty\" image data generator for training and validation\n",
        "train_image_generator = ImageDataGenerator(rescale=1.0/255.0) \n",
        "validation_image_generator = ImageDataGenerator(rescale=1./255) \n"
      ],
      "execution_count": null,
      "outputs": []
    },
    {
      "cell_type": "code",
      "metadata": {
        "id": "W5Yymw009LcG"
      },
      "source": [
        "#Add new column to csv file called index which contains index from 1 to number of images\n",
        "#Index is simply sample index that acts as a helper for retrieving the corresponding samples later on\n",
        "cop['index'] = cop.index"
      ],
      "execution_count": null,
      "outputs": []
    },
    {
      "cell_type": "code",
      "metadata": {
        "id": "lteh4MwX5UR7",
        "outputId": "b2e5e4d0-413b-4c15-ba35-77447bafe1b0",
        "colab": {
          "base_uri": "https://localhost:8080/",
          "height": 33
        }
      },
      "source": [
        "#Exploring data's shape\n",
        "cop.shape[0]"
      ],
      "execution_count": null,
      "outputs": [
        {
          "output_type": "execute_result",
          "data": {
            "text/plain": [
              "190865"
            ]
          },
          "metadata": {
            "tags": []
          },
          "execution_count": 11
        }
      ]
    },
    {
      "cell_type": "code",
      "metadata": {
        "id": "ULPFcUlX5Wl5",
        "outputId": "947db18d-92df-4f44-de28-f76ab8861b2a",
        "colab": {
          "base_uri": "https://localhost:8080/",
          "height": 50
        }
      },
      "source": [
        "#Manually divide data into 80% for training and 20% to validate the model\n",
        "print(int(0.8*190865))\n",
        "print(int(0.2*190865))"
      ],
      "execution_count": null,
      "outputs": [
        {
          "output_type": "stream",
          "text": [
            "152692\n",
            "38173\n"
          ],
          "name": "stdout"
        }
      ]
    },
    {
      "cell_type": "markdown",
      "metadata": {
        "id": "q_DatrcRnYuk"
      },
      "source": [
        "Define Generators for training"
      ]
    },
    {
      "cell_type": "code",
      "metadata": {
        "id": "bv33mA-w9Uip",
        "outputId": "0238d64b-60a0-4f02-a7a1-9e4a3dc0703c",
        "colab": {
          "base_uri": "https://localhost:8080/",
          "height": 33
        }
      },
      "source": [
        "#Read the images from a big numpy array , folders containing images and defining parameters\n",
        "#The reason why tags is used directly in y_col is simply because Keras does not allow reading object type from DataFrame\n",
        "# The trick here is to use filename to be the x_col and index to be the y_col. \n",
        "#The idea is that we aim to get the location in the dataframe so as to retrieve the tags later on\n",
        "train_data_gen = train_image_generator.flow_from_dataframe(dataframe=cop.iloc[0:152692],#we only get the training images\n",
        "                                                           directory = \"/content/drive/My Drive/imageclef2020\", #directory which contains images\n",
        "                                                           x_col=\"image_path\", \n",
        "                                                           y_col=\"index\",\n",
        "                                                           batch_size=128, #each step contains 128 samples \n",
        "                                                           shuffle=True, #images will be putted randomly\n",
        "                                                           target_size=(224, 224), #the size of images must match the same size of the first model's layer which will be defined later\n",
        "                                                           seed=42,\n",
        "                                                           class_mode = \"other\" \n",
        "                                                          )"
      ],
      "execution_count": null,
      "outputs": [
        {
          "output_type": "stream",
          "text": [
            "Found 152692 validated image filenames.\n"
          ],
          "name": "stdout"
        }
      ]
    },
    {
      "cell_type": "markdown",
      "metadata": {
        "id": "myhWWqP4nLtk"
      },
      "source": [
        "Multi-Label Binarizer"
      ]
    },
    {
      "cell_type": "code",
      "metadata": {
        "id": "1w6Pt9Nv9Zc7",
        "outputId": "daaf1e2c-6acf-46b3-901f-4a0ef8f77b1d",
        "colab": {
          "base_uri": "https://localhost:8080/",
          "height": 33
        }
      },
      "source": [
        "#If we can successfully retrieve the tags, what is left is to apply a multi-label binarizer to it\n",
        "from sklearn.preprocessing import MultiLabelBinarizer\n",
        "mlb = MultiLabelBinarizer()\n",
        "mlb.fit(cop['tags'].values)"
      ],
      "execution_count": null,
      "outputs": [
        {
          "output_type": "execute_result",
          "data": {
            "text/plain": [
              "MultiLabelBinarizer(classes=None, sparse_output=False)"
            ]
          },
          "metadata": {
            "tags": []
          },
          "execution_count": 10
        }
      ]
    },
    {
      "cell_type": "code",
      "metadata": {
        "id": "m5TjbcWC9dnu",
        "outputId": "937a67e8-0ff9-4f6e-b14a-2ec6db29745f",
        "colab": {
          "base_uri": "https://localhost:8080/",
          "height": 1000
        }
      },
      "source": [
        "#list the all the classes we have\n",
        "list(mlb.classes_)"
      ],
      "execution_count": null,
      "outputs": [
        {
          "output_type": "execute_result",
          "data": {
            "text/plain": [
              "['',\n",
              " ' Dublin',\n",
              " ' Dundrum Town Centre',\n",
              " ' Gardermoen',\n",
              " ' Gate 53',\n",
              " ' Killester',\n",
              " ' Langnes (TOS)',\n",
              " ' Liffey Valley Center',\n",
              " ' Thai and Vietnamese Takeaway',\n",
              " ' Tromsoe',\n",
              " ' a DoubleTree by Hilton Hotel',\n",
              " 'Airside Retail Park',\n",
              " 'Airside retail park',\n",
              " \"Angelina's\",\n",
              " \"Ann's Bakery and Restaurant\",\n",
              " 'Arisu Korean Restrant',\n",
              " 'Arnotts Department Store',\n",
              " 'Austies Bar and Restaurant',\n",
              " 'Avoca',\n",
              " 'B&Q',\n",
              " 'Ballsbridge Hotel',\n",
              " 'Bayside',\n",
              " 'Boots Liffey Valley',\n",
              " 'Brown Thomas',\n",
              " 'Café Rouge',\n",
              " 'Caim Church',\n",
              " 'Captain Americas Cookhouse & Bar',\n",
              " 'Car Rental Village',\n",
              " 'Clarion Hotel & Congress Oslo Airport',\n",
              " 'Clarion Hotel The Edge',\n",
              " 'Collins Park',\n",
              " 'Connolly Train Station',\n",
              " 'Costa Coffee',\n",
              " \"Crabby Jo's Restaurant\",\n",
              " 'DAA Executive Lounge',\n",
              " 'DCU Engineering Building',\n",
              " 'DCU Restaurant',\n",
              " 'DCU School of Computing',\n",
              " 'DCU School of Nursing',\n",
              " 'DCU Staff CarPark (Albert College)',\n",
              " 'Dentist Kilbarrack',\n",
              " 'Dentistry.ie',\n",
              " 'Devonshire Arms',\n",
              " 'Donaghmede Shopping Centre',\n",
              " 'Dublin Airport',\n",
              " 'Dublin Airport (DUB) - Aerfort Bhaile Átha Cliath',\n",
              " 'Dublin Airport T2 Car Park',\n",
              " 'Dublin City University (DCU)',\n",
              " 'Dunnes Cornelscourt',\n",
              " 'Dunnes Stores',\n",
              " 'East China Normal University',\n",
              " \"Eddie Rocket's\",\n",
              " 'Eddie Rockets Clare Hall',\n",
              " \"Embassy of  The People's Republic of China Visa & Consular Office\",\n",
              " 'Fitzsimons Bar',\n",
              " 'Fjellheisen Cable Car Tromsø',\n",
              " 'Forskningsparken i Tromsø',\n",
              " 'Frankfurt Airport (FRA)',\n",
              " 'Gate 102',\n",
              " 'Gate 110',\n",
              " 'Gate 212',\n",
              " 'Gate 303',\n",
              " 'Gate Z66',\n",
              " 'Georges Street Arcade',\n",
              " \"Grace O'Malley Drive\",\n",
              " 'Grafton Street',\n",
              " 'Grange Tower Bridge Hotel',\n",
              " 'Greendale Shopping Centre',\n",
              " 'Guinness Enterprise Centre',\n",
              " 'Hanjie Steet',\n",
              " 'Hilan Korean & Chinese Restaurant',\n",
              " 'Home',\n",
              " 'Homebase',\n",
              " 'Hotel Killarney',\n",
              " 'Howth',\n",
              " 'Howth Harbour',\n",
              " 'Howth Junction Business Centre',\n",
              " 'Invent Cafe',\n",
              " 'Ireland',\n",
              " 'Jervis Shopping Centre',\n",
              " 'Jurys Inn',\n",
              " 'Kinder Lodge',\n",
              " 'Leman Solicitors',\n",
              " \"Lena's Tea Room\",\n",
              " 'Leopardstown Racecourse',\n",
              " 'Leopardstown Racecourse Pavilion',\n",
              " 'Lidl',\n",
              " 'Liffey Valley Shopping Centre',\n",
              " 'Limerick City',\n",
              " 'Limerick Colbert railway station',\n",
              " 'London City Airport (LCY)',\n",
              " 'MH-kafeen UIT',\n",
              " 'Madam Mok Asian Fusion Restaurant & Take Away',\n",
              " 'Manchester International Airport (MAN)',\n",
              " 'Marie Louise Tea Rooms',\n",
              " 'Mc Donalds - Donaghmede',\n",
              " 'Mc Donalds Liffey Valley Retail Park :)',\n",
              " \"McDonald's\",\n",
              " 'McDonalds',\n",
              " 'Modern Universe Business Plaza',\n",
              " 'Novotel',\n",
              " \"O'Brien Centre for Science\",\n",
              " \"O'Briens Sandwhich Bar\",\n",
              " \"O'Connors Cafe Bar & Restaurant\",\n",
              " 'Omni Park Shopping Centre',\n",
              " 'Oslo - Gardermoen Norway International Airport',\n",
              " 'Oslo Lufthavn (OSL)',\n",
              " 'Oslo Lufthavn Gardermoen',\n",
              " 'Park Inn Radisson Hotel',\n",
              " 'Pavilions Shopping Centre',\n",
              " 'Pavlova Passion Bakery',\n",
              " 'Permanent TSB',\n",
              " 'Pho Ta',\n",
              " 'Port of Howth',\n",
              " 'Power City',\n",
              " 'Powerscourt Townhouse Centre',\n",
              " 'Prezzo',\n",
              " 'Quayside Shopping Centre',\n",
              " 'Radisson Blu Hotel',\n",
              " 'Radisson Blu Royal Hotel',\n",
              " 'Rathdown Park',\n",
              " 'Realfagbygget',\n",
              " 'Regency Hotel',\n",
              " 'Ross Castle',\n",
              " 'Rå Sushi Tromsø',\n",
              " 'SAS Businesslounge Tromsø Lufthavn',\n",
              " 'SAS Domestic Lounge OSL',\n",
              " 'SAS Gold Lounge Arlanda',\n",
              " 'SOLE Seafood & Grill',\n",
              " 'Sandymount Hotel',\n",
              " 'Science Gallery Café',\n",
              " 'Science Gallery Trinity College Dublin',\n",
              " 'Shanghai Pudong International airport',\n",
              " 'Sheffield Tap',\n",
              " 'Sheffield University - Portobello Centre',\n",
              " 'Shells Sea Side Bakery Cafe',\n",
              " 'Siam Thai',\n",
              " 'Sligo Retail Park',\n",
              " 'Smarthotel',\n",
              " 'Smyths Toys Ireland',\n",
              " \"St Patrick's College\",\n",
              " \"St. Brigid's Church\",\n",
              " 'Starbucks',\n",
              " 'Starbucks Rathmines',\n",
              " 'Starbucks Stillorgan',\n",
              " 'Steven An',\n",
              " 'Stockholm Arlanda (ARN) International Airport',\n",
              " 'Stockholm-Arlanda Airport Gate 10A',\n",
              " 'SuperValu',\n",
              " 'Tea & Tales',\n",
              " 'Tenter Street Apartment ',\n",
              " 'Tesco Extra',\n",
              " 'Thai Massage Rooms',\n",
              " 'The Antiques Emporium',\n",
              " 'The Black Sheep',\n",
              " 'The Blanchardstown Centre',\n",
              " 'The Golden Wok Chinese',\n",
              " 'The Helix',\n",
              " 'The Henry Grattan',\n",
              " 'The Morrison',\n",
              " 'The Sisters Home',\n",
              " 'The Westin',\n",
              " 'Thunder Road Café',\n",
              " 'Tromsø Lufthavn',\n",
              " 'Verbena Avenue',\n",
              " 'Wanda Realm Wuhan',\n",
              " 'Waterside ',\n",
              " 'Waterstones',\n",
              " 'Web Summit HQ',\n",
              " \"Woodie's DIY\",\n",
              " 'Work',\n",
              " 'Wuhan University',\n",
              " 'Yamamori Izakaya Bar',\n",
              " 'Yeats Country Hotel Spa & Leisure Club',\n",
              " 'aged',\n",
              " 'airplane',\n",
              " 'airplane_cabin',\n",
              " 'airport_terminal',\n",
              " 'alcove',\n",
              " 'alley',\n",
              " 'amusement_arcade',\n",
              " 'apple',\n",
              " 'aquarium',\n",
              " 'archive',\n",
              " 'army_base',\n",
              " 'artists_loft',\n",
              " 'asphalt',\n",
              " 'atrium/public',\n",
              " 'attic',\n",
              " 'backpack',\n",
              " 'badlands',\n",
              " 'balcony/interior',\n",
              " 'banana',\n",
              " 'bank_vault',\n",
              " 'banquet_hall',\n",
              " 'bar',\n",
              " 'baseball bat',\n",
              " 'baseball glove',\n",
              " 'bathing',\n",
              " 'bathroom',\n",
              " 'beach',\n",
              " 'bear',\n",
              " 'beauty_salon',\n",
              " 'bed',\n",
              " 'beer',\n",
              " 'beer_hall',\n",
              " 'bench',\n",
              " 'berth',\n",
              " 'bicycle',\n",
              " 'biking',\n",
              " 'bird',\n",
              " 'boat',\n",
              " 'boat_deck',\n",
              " 'boating',\n",
              " 'book',\n",
              " 'bookstore',\n",
              " 'booth/indoor',\n",
              " 'bottle',\n",
              " 'bow_window/indoor',\n",
              " 'bowl',\n",
              " 'bowling_alley',\n",
              " 'boxing_ring',\n",
              " 'brick',\n",
              " 'bridge',\n",
              " 'broccoli',\n",
              " 'bus',\n",
              " 'bus_interior',\n",
              " 'bus_station/indoor',\n",
              " 'butchers_shop',\n",
              " 'cake',\n",
              " 'camera',\n",
              " 'cameramen',\n",
              " 'camping',\n",
              " 'campsite',\n",
              " 'car',\n",
              " 'car ',\n",
              " 'car_interior',\n",
              " 'carpet',\n",
              " 'carrot',\n",
              " 'carrousel',\n",
              " 'cat',\n",
              " 'catacomb',\n",
              " 'cell phone',\n",
              " 'cemetery',\n",
              " 'chair',\n",
              " 'church/indoor',\n",
              " 'classroom',\n",
              " 'cleaning',\n",
              " 'climbing',\n",
              " 'clock',\n",
              " 'closet',\n",
              " 'cloth',\n",
              " 'clothing_store',\n",
              " 'clouds',\n",
              " 'cluttered space',\n",
              " 'cockpit',\n",
              " 'cold',\n",
              " 'competing',\n",
              " 'computer',\n",
              " 'computer_room',\n",
              " 'concrete',\n",
              " 'conducting business',\n",
              " 'conference_room',\n",
              " 'congregating',\n",
              " 'construction_site',\n",
              " 'corridor',\n",
              " 'couch',\n",
              " 'cow',\n",
              " 'crevasse',\n",
              " 'crosswalk',\n",
              " 'cup',\n",
              " 'dam',\n",
              " 'department_store',\n",
              " 'desert/sand',\n",
              " 'desktop',\n",
              " 'digging',\n",
              " 'dining table',\n",
              " 'dirt',\n",
              " 'dirty',\n",
              " 'discotheque',\n",
              " 'diving',\n",
              " 'dog',\n",
              " 'donut',\n",
              " 'dorm_room',\n",
              " 'dressing_room',\n",
              " 'driveway',\n",
              " 'driving',\n",
              " 'dry',\n",
              " 'eating',\n",
              " 'elephant',\n",
              " 'elevator/door',\n",
              " 'elevator_lobby',\n",
              " 'elevator_shaft',\n",
              " 'embassy',\n",
              " 'enclosed area',\n",
              " 'enjoyed',\n",
              " 'escalator/indoor',\n",
              " 'exercise',\n",
              " 'fabric_store',\n",
              " 'far-away horizon',\n",
              " 'farming',\n",
              " 'fastfood_restaurant',\n",
              " 'fencing',\n",
              " 'fire',\n",
              " 'fire hydrant',\n",
              " 'flowers',\n",
              " 'foliage',\n",
              " 'forest_road',\n",
              " 'fork',\n",
              " 'frisbee',\n",
              " 'galley',\n",
              " 'gaming',\n",
              " 'garden',\n",
              " 'gas_station',\n",
              " 'giraffe',\n",
              " 'glass',\n",
              " 'glossy',\n",
              " 'gloves',\n",
              " 'grass',\n",
              " 'grocery',\n",
              " 'grocery stores',\n",
              " 'hair drier',\n",
              " 'hammer',\n",
              " 'handbag',\n",
              " 'hangar/outdoor',\n",
              " 'highway',\n",
              " 'hiking',\n",
              " 'home_theater',\n",
              " 'horizontal components',\n",
              " 'horse',\n",
              " 'hospital_room',\n",
              " 'hot dog',\n",
              " 'hotel_room',\n",
              " 'ice',\n",
              " 'ice_cream_parlor',\n",
              " 'icecream',\n",
              " 'igloo',\n",
              " 'indoor lighting',\n",
              " 'interviewer',\n",
              " 'items',\n",
              " 'jacuzzi/indoor',\n",
              " 'jail_cell',\n",
              " 'jewelry_shop',\n",
              " 'junkyard',\n",
              " 'keyboard',\n",
              " 'kindergarden_classroom',\n",
              " 'kitchen',\n",
              " 'kite',\n",
              " 'knife',\n",
              " 'lamp',\n",
              " 'landing_deck',\n",
              " 'laptop',\n",
              " 'laundromat',\n",
              " 'lawn',\n",
              " 'leaves',\n",
              " 'legislative_chamber',\n",
              " 'lock_chamber',\n",
              " 'locker_room',\n",
              " 'man-made',\n",
              " 'marble',\n",
              " 'martial_arts_gym',\n",
              " 'matte',\n",
              " 'medical activity',\n",
              " 'metal',\n",
              " 'microwave',\n",
              " 'moist',\n",
              " 'monster',\n",
              " 'motorcycle',\n",
              " 'mouse',\n",
              " 'movie_theater/indoor',\n",
              " 'natural',\n",
              " 'natural light',\n",
              " 'no horizon',\n",
              " 'nursery',\n",
              " 'oast_house',\n",
              " 'ocean',\n",
              " 'office',\n",
              " 'office_cubicles',\n",
              " 'open area',\n",
              " 'orange',\n",
              " 'orchestra_pit',\n",
              " 'outside',\n",
              " 'oven',\n",
              " 'pantry',\n",
              " 'paper',\n",
              " 'parking meter',\n",
              " 'parking_garage/indoor',\n",
              " 'parking_garage/outdoor',\n",
              " 'parking_lot',\n",
              " 'pavement',\n",
              " 'pc',\n",
              " 'person',\n",
              " 'pet_shop',\n",
              " 'pharmacy',\n",
              " 'phone_booth',\n",
              " 'photo',\n",
              " 'pizza',\n",
              " 'pizzeria',\n",
              " 'plastic',\n",
              " 'playing',\n",
              " 'potted plant',\n",
              " 'praying',\n",
              " 'products',\n",
              " 'public transport',\n",
              " 'railing',\n",
              " 'railroad',\n",
              " 'reading',\n",
              " 'reception',\n",
              " 'recording',\n",
              " 'refrigerator',\n",
              " 'remote',\n",
              " 'repair',\n",
              " 'research',\n",
              " 'residential_neighborhood',\n",
              " 'restaurant_kitchen',\n",
              " 'rock',\n",
              " 'rope_bridge',\n",
              " 'rugged scene',\n",
              " 'running',\n",
              " 'running water',\n",
              " 'rusty',\n",
              " 'sand',\n",
              " 'sandwich',\n",
              " 'sauna',\n",
              " 'scary',\n",
              " 'scissors',\n",
              " 'sea',\n",
              " 'seaside',\n",
              " 'semi-enclosed area',\n",
              " 'server_room',\n",
              " 'sheep',\n",
              " 'shingles',\n",
              " 'shoe_shop',\n",
              " 'shop',\n",
              " 'shopping',\n",
              " 'show',\n",
              " 'shower',\n",
              " 'shrubbery',\n",
              " 'sink',\n",
              " 'skateboard',\n",
              " 'skis',\n",
              " 'sky',\n",
              " 'smoke',\n",
              " 'snow',\n",
              " 'snowboard',\n",
              " 'socializing',\n",
              " 'soothing',\n",
              " 'spectating',\n",
              " 'spoon',\n",
              " 'sports',\n",
              " 'sports ball',\n",
              " 'staircase',\n",
              " 'sterile',\n",
              " 'still water',\n",
              " 'stop sign',\n",
              " 'store',\n",
              " 'street',\n",
              " 'stressful',\n",
              " 'studying',\n",
              " 'subway_station/platform',\n",
              " 'suitcase',\n",
              " 'sunny',\n",
              " 'supermarket',\n",
              " 'surf',\n",
              " 'surfboard',\n",
              " 'sushi_bar',\n",
              " 'swimming',\n",
              " 'symmetrical',\n",
              " 'table',\n",
              " 'teddy bear',\n",
              " 'television camera',\n",
              " 'television show',\n",
              " 'television_room',\n",
              " 'television_studio',\n",
              " 'tennis racket',\n",
              " 'ticket_booth',\n",
              " 'tie',\n",
              " 'tiles',\n",
              " 'toaster',\n",
              " 'toilet',\n",
              " 'toothbrush',\n",
              " 'touring',\n",
              " 'toy_shop',\n",
              " 'toys',\n",
              " 'toyshop',\n",
              " 'traffic light',\n",
              " 'train',\n",
              " 'train_interior',\n",
              " 'train_station/platform',\n",
              " 'training',\n",
              " 'transport',\n",
              " 'transporting',\n",
              " 'trees',\n",
              " 'truck',\n",
              " 'tundra',\n",
              " 'tv',\n",
              " 'umbrella',\n",
              " 'using tools',\n",
              " 'utility_room',\n",
              " 'vase',\n",
              " 'vegetation',\n",
              " 'vertical components',\n",
              " 'veterinarians_office',\n",
              " 'view',\n",
              " 'vinyl',\n",
              " 'volcano',\n",
              " 'waiting in line',\n",
              " 'walking',\n",
              " 'warm',\n",
              " 'weekends',\n",
              " 'wind_farm',\n",
              " 'windmill',\n",
              " 'wine glass',\n",
              " 'wire',\n",
              " 'wood',\n",
              " 'working',\n",
              " 'zebra',\n",
              " 'zen_garden']"
            ]
          },
          "metadata": {
            "tags": []
          },
          "execution_count": 19
        }
      ]
    },
    {
      "cell_type": "code",
      "metadata": {
        "id": "6KyU6JTs9iFF"
      },
      "source": [
        "def multilabel_flow_from_dataframe(data_generator, mlb,df):\n",
        "    for x, y in data_generator:\n",
        "        indices = y.astype(np.int).tolist()\n",
        "        y_multi = mlb.transform(\n",
        "            df.iloc[indices]['tags'].values.tolist()\n",
        "        )\n",
        "        yield x, y_multi"
      ],
      "execution_count": null,
      "outputs": []
    },
    {
      "cell_type": "code",
      "metadata": {
        "id": "wffOykUp9qN0"
      },
      "source": [
        "#Retrieve the tags\n",
        "multilabel_generator_train = multilabel_flow_from_dataframe(\n",
        "    train_data_gen, mlb,cop\n",
        ")"
      ],
      "execution_count": null,
      "outputs": []
    },
    {
      "cell_type": "markdown",
      "metadata": {
        "id": "mq15BCmkneZv"
      },
      "source": [
        "Define Generators for Validation"
      ]
    },
    {
      "cell_type": "code",
      "metadata": {
        "id": "ETPJIifmg63H",
        "outputId": "1bb89a0d-eae4-4ac2-a051-86d358d8e9ce",
        "colab": {
          "base_uri": "https://localhost:8080/",
          "height": 33
        }
      },
      "source": [
        "#Apply the same concept for validation\n",
        "val_data_gen = validation_image_generator.flow_from_dataframe(dataframe = cop.iloc[152692:],\n",
        "                                                             directory=\"/content/drive/My Drive/imageclef2020\",\n",
        "                                                             x_col = \"image_path\",\n",
        "                                                             y_col = \"index\",\n",
        "                                                             shuffle = True,\n",
        "                                                             batch_size=128,\n",
        "                                                             target_size=(224, 224),\n",
        "                                                             seed=42,\n",
        "                                                             class_mode='other')"
      ],
      "execution_count": null,
      "outputs": [
        {
          "output_type": "stream",
          "text": [
            "Found 38173 validated image filenames.\n"
          ],
          "name": "stdout"
        }
      ]
    },
    {
      "cell_type": "code",
      "metadata": {
        "id": "sJjX4Fvn939K"
      },
      "source": [
        "multilabel_generator_val = multilabel_flow_from_dataframe(\n",
        "    val_data_gen,mlb,cop\n",
        ")"
      ],
      "execution_count": null,
      "outputs": []
    },
    {
      "cell_type": "markdown",
      "metadata": {
        "id": "zF0w1pDwnrOl"
      },
      "source": [
        "#Define Metrics and Model\n",
        "Define Custom Metrics"
      ]
    },
    {
      "cell_type": "code",
      "metadata": {
        "id": "3h8ZnBygm_a-"
      },
      "source": [
        "#We're dealing with an imbalanced data that's why we will define custom metrics to visualize the progress of our model\n",
        "#Recall function\n",
        "def recall_m(y_true, y_pred):\n",
        "  y_pred = backend.clip(y_pred, 0, 1)\n",
        "  # calculate elements\n",
        "  tp = backend.sum(backend.round(backend.clip(y_true * y_pred, 0, 1)), axis=1)\n",
        "  fp = backend.sum(backend.round(backend.clip(y_pred - y_true, 0, 1)), axis=1)\n",
        "  fn = backend.sum(backend.round(backend.clip(y_true - y_pred, 0, 1)), axis=1)\n",
        "  r = tp / (tp + fn + backend.epsilon())\n",
        "  return r\n",
        "#Precision function\n",
        "def precision_m(y_true, y_pred):\n",
        "  y_pred = backend.clip(y_pred, 0, 1)\n",
        "  # calculate elements\n",
        "  tp = backend.sum(backend.round(backend.clip(y_true * y_pred, 0, 1)), axis=1)\n",
        "  fp = backend.sum(backend.round(backend.clip(y_pred - y_true, 0, 1)), axis=1)\n",
        "  fn = backend.sum(backend.round(backend.clip(y_true - y_pred, 0, 1)), axis=1)\n",
        "  # calculate precision\n",
        "  p = tp / (tp + fp + backend.epsilon())\n",
        "  return p\n",
        "#Fbeta function\n",
        "def fbeta(y_true, y_pred, beta=2):\n",
        "\t# clip predictions\n",
        "\ty_pred = backend.clip(y_pred, 0, 1)\n",
        "\t# calculate elements\n",
        "\ttp = backend.sum(backend.round(backend.clip(y_true * y_pred, 0, 1)), axis=1)\n",
        "\tfp = backend.sum(backend.round(backend.clip(y_pred - y_true, 0, 1)), axis=1)\n",
        "\tfn = backend.sum(backend.round(backend.clip(y_true - y_pred, 0, 1)), axis=1)\n",
        "\t# calculate precision\n",
        "\tp = tp / (tp + fp + backend.epsilon())\n",
        "\t# calculate recall\n",
        "\tr = tp / (tp + fn + backend.epsilon())\n",
        "\t# calculate fbeta, averaged across each class\n",
        "\tbb = beta ** 2\n",
        "\tfbeta_score = backend.mean((1 + bb) * (p * r) / (bb * p + r + backend.epsilon()))\n",
        "\treturn fbeta_score  "
      ],
      "execution_count": null,
      "outputs": []
    },
    {
      "cell_type": "markdown",
      "metadata": {
        "id": "QApAmT0QpAnP"
      },
      "source": [
        "Define model"
      ]
    },
    {
      "cell_type": "code",
      "metadata": {
        "id": "ZSP05ukEx8OF"
      },
      "source": [
        "def make_model():\n",
        "  pre_trained_model = tensorflow.keras.applications.DenseNet201(include_top=False, weights=\"imagenet\",input_tensor=tensorflow.keras.layers.Input(shape=(224, 224, 3)))\n",
        "  # construct the head of the model that will be placed on top of the\n",
        "  # the base model\n",
        "  headModel = pre_trained_model.output\n",
        "  headModel = tensorflow.keras.layers.AveragePooling2D(pool_size=(4, 4))(headModel)\n",
        "  headModel = tensorflow.keras.layers.Flatten(name=\"flatten\")(headModel)\n",
        "  headModel = tensorflow.keras.layers.Dense(512, activation=\"relu\")(headModel)\n",
        "  headModel = tensorflow.keras.layers.Dropout(0.5)(headModel)\n",
        "  headModel = tensorflow.keras.layers.Dense(len(mlb.classes_), activation=\"sigmoid\")(headModel)\n",
        "\n",
        "  # place the head FC model on top of the base model (this will become\n",
        "  # the actual model we will train)\n",
        "  model = tensorflow.keras.models.Model(inputs=pre_trained_model.input, outputs=headModel)\n",
        "\n",
        "  # loop over all layers in the base model and freeze them so they will\n",
        "  # *not* be updated during the first training process\n",
        "  for layer in pre_trained_model.layers:\n",
        "\t  layer.trainable = False\n",
        "\n",
        "  INIT_LR = 1e-3\n",
        "  EPOCHS = 2\n",
        "  # compile our model\n",
        "  print(\"[INFO] compiling model...\")\n",
        "  opt = tensorflow.keras.optimizers.Adam(lr=INIT_LR, decay=INIT_LR / EPOCHS)\n",
        "  model.compile(loss='binary_crossentropy',\n",
        "                optimizer=opt,\n",
        "                metrics=[fbeta,precision_m, recall_m])\n",
        "  return model"
      ],
      "execution_count": null,
      "outputs": []
    },
    {
      "cell_type": "code",
      "metadata": {
        "id": "sfeGwuYvxwKw"
      },
      "source": [
        "#Define a directory for the checkpoints\n",
        "checkpoint_dir = '/content/drive/My Drive/CheckPoints'\n",
        "if not os.path.exists(checkpoint_dir):\n",
        "    os.makedirs(checkpoint_dir)"
      ],
      "execution_count": null,
      "outputs": []
    },
    {
      "cell_type": "code",
      "metadata": {
        "id": "i2gMV_HpycBH"
      },
      "source": [
        "def make_or_restore_model():\n",
        "    # Either restore the latest model, or create a fresh one\n",
        "    # if there is no checkpoint available.\n",
        "    checkpoints = [checkpoint_dir + '/' + name\n",
        "                   for name in os.listdir(checkpoint_dir)]\n",
        "    if checkpoints:\n",
        "        latest_checkpoint = max(checkpoints, key=os.path.getctime)\n",
        "        print('Restoring from', latest_checkpoint)\n",
        "        return tensorflow.keras.models.load_model(latest_checkpoint)\n",
        "    print('Creating a new model')\n",
        "    return make_model()"
      ],
      "execution_count": null,
      "outputs": []
    },
    {
      "cell_type": "code",
      "metadata": {
        "id": "gGadFw_HzYEP",
        "outputId": "0fbeca8b-70e3-4afa-9406-22b3cabdcf48",
        "colab": {
          "base_uri": "https://localhost:8080/",
          "height": 50
        }
      },
      "source": [
        "model = make_or_restore_model()"
      ],
      "execution_count": null,
      "outputs": [
        {
          "output_type": "stream",
          "text": [
            "Creating a new model\n",
            "[INFO] compiling model...\n"
          ],
          "name": "stdout"
        }
      ]
    },
    {
      "cell_type": "code",
      "metadata": {
        "id": "CQykkUqYzdrC"
      },
      "source": [
        "#Due to the big amount of data and the limiations provided by Google Colab,  we will define callbacks that saves a SavedModel every 20 batches.\n",
        "callbacks = [\n",
        "    # We include the training loss in the folder name.\n",
        "    ModelCheckpoint(\n",
        "        filepath=checkpoint_dir + '/ckpt-loss={loss:.2f}',\n",
        "        save_freq=20),\n",
        "        History(),\n",
        "]"
      ],
      "execution_count": null,
      "outputs": []
    },
    {
      "cell_type": "markdown",
      "metadata": {
        "id": "omdccZJhprvJ"
      },
      "source": [
        "#Training Phase\n",
        "Train our defined model"
      ]
    },
    {
      "cell_type": "code",
      "metadata": {
        "id": "cqsa1bil0XrV",
        "outputId": "de614715-5026-4be3-cd89-12fdf63c7fa0",
        "colab": {
          "base_uri": "https://localhost:8080/",
          "height": 187
        }
      },
      "source": [
        "H = model.fit_generator(multilabel_generator_train, steps_per_epoch=len(train_data_gen), validation_data=multilabel_generator_val, validation_steps=len(val_data_gen), epochs=2, verbose=1, callbacks=callbacks)"
      ],
      "execution_count": null,
      "outputs": [
        {
          "output_type": "stream",
          "text": [
            "Epoch 1/2\n",
            "  19/1193 [..............................] - ETA: 13:00:03 - loss: 0.2379 - fbeta: 0.3903 - precision_m: 0.3924 - recall_m: 0.4858WARNING:tensorflow:From /usr/local/lib/python3.6/dist-packages/tensorflow/python/ops/resource_variable_ops.py:1817: calling BaseResourceVariable.__init__ (from tensorflow.python.ops.resource_variable_ops) with constraint is deprecated and will be removed in a future version.\n",
            "Instructions for updating:\n",
            "If using Keras pass *_constraint arguments to layers.\n",
            "INFO:tensorflow:Assets written to: /content/drive/My Drive/CheckPoints/ckpt-loss=0.23/assets\n",
            "  39/1193 [..............................] - ETA: 13:05:38 - loss: 0.1569 - fbeta: 0.4568 - precision_m: 0.5104 - recall_m: 0.4953INFO:tensorflow:Assets written to: /content/drive/My Drive/CheckPoints/ckpt-loss=0.15/assets\n",
            "  59/1193 [>.............................] - ETA: 12:58:34 - loss: 0.1226 - fbeta: 0.4960 - precision_m: 0.5878 - recall_m: 0.5127INFO:tensorflow:Assets written to: /content/drive/My Drive/CheckPoints/ckpt-loss=0.12/assets\n",
            "  79/1193 [>.............................] - ETA: 12:56:04 - loss: 0.1037 - fbeta: 0.5253 - precision_m: 0.6349 - recall_m: 0.5311INFO:tensorflow:Assets written to: /content/drive/My Drive/CheckPoints/ckpt-loss=0.10/assets\n",
            "  92/1193 [=>............................] - ETA: 12:52:46 - loss: 0.0955 - fbeta: 0.5385 - precision_m: 0.6556 - recall_m: 0.5398"
          ],
          "name": "stdout"
        }
      ]
    },
    {
      "cell_type": "markdown",
      "metadata": {
        "id": "7HWw3btuq2kB"
      },
      "source": [
        "Load Weights"
      ]
    },
    {
      "cell_type": "code",
      "metadata": {
        "id": "zkn5F07msApj"
      },
      "source": [
        "model = make_or_restore_model()"
      ],
      "execution_count": null,
      "outputs": []
    },
    {
      "cell_type": "code",
      "metadata": {
        "id": "FaUoXANOks9i"
      },
      "source": [
        "#Colab gives us 2 hours and then the notebook automatically is shutted down\n",
        "#We will load the last saved checkpoints using the load_weights function\n",
        "model.load_weights('/content/drive/My Drive/epochs_test4(densenet201):002-val_fbeta:0.760.hdf5')"
      ],
      "execution_count": null,
      "outputs": []
    },
    {
      "cell_type": "markdown",
      "metadata": {
        "id": "Qy3XkoUprRBq"
      },
      "source": [
        "Compile the model"
      ]
    },
    {
      "cell_type": "code",
      "metadata": {
        "id": "oF4pURtGXPX5"
      },
      "source": [
        "#After loading weights, we need to compile the model again just like we did before in order to resume training\n",
        "model.compile(loss='binary_crossentropy',\n",
        "              optimizer=optimizer,\n",
        "              metrics=[fbeta,precision_m, recall_m])"
      ],
      "execution_count": null,
      "outputs": []
    },
    {
      "cell_type": "code",
      "metadata": {
        "id": "S_iLCFXZqqqK",
        "outputId": "fb656698-1a88-4639-b1eb-fda56d929051",
        "colab": {
          "base_uri": "https://localhost:8080/",
          "height": 477
        }
      },
      "source": [
        "H = model.fit_generator(multilabel_generator_train, steps_per_epoch=len(train_data_gen), validation_data=multilabel_generator_val, validation_steps=len(val_data_gen), epochs=6, verbose=1, callbacks=callbacks_list)"
      ],
      "execution_count": null,
      "outputs": [
        {
          "output_type": "stream",
          "text": [
            "WARNING:tensorflow:From <ipython-input-30-d4c0407ea532>:1: Model.fit_generator (from tensorflow.python.keras.engine.training) is deprecated and will be removed in a future version.\n",
            "Instructions for updating:\n",
            "Please use Model.fit, which supports generators.\n",
            "Epoch 1/6\n",
            "120/120 [==============================] - ETA: 0s - loss: 0.0205 - accuracy: 0.0074 - fbeta: 0.8738 - precision_m: 0.9299 - recall_m: 0.8634 \n",
            "Epoch 00001: val_fbeta improved from -inf to 0.75886, saving model to /content/drive/My Drive/epochs_test4(densenet201):001-val_fbeta:0.759.hdf5\n",
            "120/120 [==============================] - 8077s 67s/step - loss: 0.0205 - accuracy: 0.0074 - fbeta: 0.8738 - precision_m: 0.9299 - recall_m: 0.8634 - val_loss: 0.0395 - val_accuracy: 6.8381e-04 - val_fbeta: 0.7589 - val_precision_m: 0.8809 - val_recall_m: 0.7371\n",
            "Epoch 2/6\n",
            "120/120 [==============================] - ETA: 0s - loss: 0.0187 - accuracy: 0.0082 - fbeta: 0.8835 - precision_m: 0.9364 - recall_m: 0.8738 \n",
            "Epoch 00002: val_fbeta improved from 0.75886 to 0.76017, saving model to /content/drive/My Drive/epochs_test4(densenet201):002-val_fbeta:0.760.hdf5\n",
            "120/120 [==============================] - 2767s 23s/step - loss: 0.0187 - accuracy: 0.0082 - fbeta: 0.8835 - precision_m: 0.9364 - recall_m: 0.8738 - val_loss: 0.0396 - val_accuracy: 4.1028e-04 - val_fbeta: 0.7602 - val_precision_m: 0.8797 - val_recall_m: 0.7385\n",
            "Epoch 3/6\n",
            "120/120 [==============================] - ETA: 0s - loss: 0.0178 - accuracy: 0.0099 - fbeta: 0.8898 - precision_m: 0.9388 - recall_m: 0.8808 \n",
            "Epoch 00003: val_fbeta did not improve from 0.76017\n",
            "120/120 [==============================] - 2699s 22s/step - loss: 0.0178 - accuracy: 0.0099 - fbeta: 0.8898 - precision_m: 0.9388 - recall_m: 0.8808 - val_loss: 0.0397 - val_accuracy: 1.3676e-04 - val_fbeta: 0.7580 - val_precision_m: 0.8842 - val_recall_m: 0.7356\n",
            "Epoch 4/6\n",
            "120/120 [==============================] - ETA: 0s - loss: 0.0165 - accuracy: 0.0091 - fbeta: 0.8978 - precision_m: 0.9434 - recall_m: 0.8893 \n",
            "Epoch 00004: val_fbeta improved from 0.76017 to 0.76297, saving model to /content/drive/My Drive/epochs_test4(densenet201):004-val_fbeta:0.763.hdf5\n",
            "120/120 [==============================] - 2822s 24s/step - loss: 0.0165 - accuracy: 0.0091 - fbeta: 0.8978 - precision_m: 0.9434 - recall_m: 0.8893 - val_loss: 0.0404 - val_accuracy: 2.7352e-04 - val_fbeta: 0.7630 - val_precision_m: 0.8740 - val_recall_m: 0.7421\n",
            "Epoch 5/6\n",
            "120/120 [==============================] - ETA: 0s - loss: 0.0155 - accuracy: 0.0131 - fbeta: 0.9034 - precision_m: 0.9462 - recall_m: 0.8955 \n",
            "Epoch 00005: val_fbeta improved from 0.76297 to 0.76806, saving model to /content/drive/My Drive/epochs_test4(densenet201):005-val_fbeta:0.768.hdf5\n",
            "120/120 [==============================] - 2800s 23s/step - loss: 0.0155 - accuracy: 0.0131 - fbeta: 0.9034 - precision_m: 0.9462 - recall_m: 0.8955 - val_loss: 0.0411 - val_accuracy: 0.0015 - val_fbeta: 0.7681 - val_precision_m: 0.8702 - val_recall_m: 0.7490\n",
            "Epoch 6/6\n",
            " 38/120 [========>.....................] - ETA: 30:46 - loss: 0.0144 - accuracy: 0.0113 - fbeta: 0.9109 - precision_m: 0.9504 - recall_m: 0.9036"
          ],
          "name": "stdout"
        }
      ]
    },
    {
      "cell_type": "markdown",
      "metadata": {
        "id": "JmRjOFS5sFs8"
      },
      "source": [
        "#Exploring Results\n",
        "Explore some plots from trained batches"
      ]
    },
    {
      "cell_type": "code",
      "metadata": {
        "id": "lI_jxs_b5aTR",
        "outputId": "c8a78ee1-c000-415a-e86d-236010f1bfb5",
        "colab": {
          "base_uri": "https://localhost:8080/",
          "height": 734
        }
      },
      "source": [
        "N = 8\n",
        "plt.style.use(\"ggplot\")\n",
        "plt.figure(figsize=(18, 12))\n",
        "plt.plot(np.arange(0, N), H.history[\"loss\"], label=\"train_loss\")\n",
        "plt.plot(np.arange(0, N), H.history[\"val_loss\"], label=\"val_loss\")\n",
        "plt.plot(np.arange(0, N), H.history[\"fbeta\"], label=\"fbeta_train\")\n",
        "plt.plot(np.arange(0, N), H.history[\"val_fbeta\"], label=\"fbeta_val\")\n",
        "plt.title(\"Training Loss and Accuracy on Lifelog Dataset\")\n",
        "plt.xlabel(\"Epoch #\")\n",
        "plt.ylabel(\"Loss/FBeta\")\n",
        "plt.legend(loc=\"lower left\")\n",
        "plt.show()"
      ],
      "execution_count": null,
      "outputs": [
        {
          "output_type": "display_data",
          "data": {
            "image/png": "[encoded data removed]",
            "text/plain": [
              "<Figure size 1296x864 with 1 Axes>"
            ]
          },
          "metadata": {
            "tags": []
          }
        }
      ]
    },
    {
      "cell_type": "code",
      "metadata": {
        "id": "sxjKgEYk5emt",
        "outputId": "7a27a5f7-3b93-450b-a0e6-de605bbf6e8c",
        "colab": {
          "base_uri": "https://localhost:8080/",
          "height": 734
        }
      },
      "source": [
        "N = 8\n",
        "plt.style.use(\"ggplot\")\n",
        "plt.figure(figsize=(18, 12))\n",
        "plt.plot(np.arange(0, N), H.history[\"precision_m\"], label=\"Precision\")\n",
        "plt.plot(np.arange(0, N), H.history[\"val_precision_m\"], label=\"Val Precision\")\n",
        "plt.title(\"Training Precision on Lifelog Dataset\")\n",
        "plt.xlabel(\"Epoch #\")\n",
        "plt.ylabel(\"Precision\")\n",
        "plt.legend(loc=\"lower left\")\n",
        "plt.show()"
      ],
      "execution_count": null,
      "outputs": [
        {
          "output_type": "display_data",
          "data": {
            "image/png": "[encoded data removed]",
            "text/plain": [
              "<Figure size 1296x864 with 1 Axes>"
            ]
          },
          "metadata": {
            "tags": []
          }
        }
      ]
    },
    {
      "cell_type": "code",
      "metadata": {
        "id": "NhjqYX9z5hIz",
        "outputId": "9d74b9e5-acfd-48d5-ea89-56318d501b87",
        "colab": {
          "base_uri": "https://localhost:8080/",
          "height": 734
        }
      },
      "source": [
        "N = 8\n",
        "plt.style.use(\"ggplot\")\n",
        "plt.figure(figsize=(18, 12))\n",
        "plt.plot(np.arange(0, N), H.history[\"recall_m\"], label=\"Recall\")\n",
        "plt.plot(np.arange(0, N), H.history[\"val_recall_m\"], label=\"Val Recall\")\n",
        "plt.title(\"Training Recall on Lifelog Dataset\")\n",
        "plt.xlabel(\"Epoch #\")\n",
        "plt.ylabel(\"Recall\")\n",
        "plt.legend(loc=\"lower left\")\n",
        "plt.show()"
      ],
      "execution_count": null,
      "outputs": [
        {
          "output_type": "display_data",
          "data": {
            "image/png": "[encoded data removed]",
            "text/plain": [
              "<Figure size 1296x864 with 1 Axes>"
            ]
          },
          "metadata": {
            "tags": []
          }
        }
      ]
    },
    {
      "cell_type": "markdown",
      "metadata": {
        "id": "2BRFZN0btJQr"
      },
      "source": [
        "#Test Phase\n",
        "Evaluate The Model and make predictions"
      ]
    },
    {
      "cell_type": "code",
      "metadata": {
        "id": "pBCs2eETAs1l"
      },
      "source": [
        "orig = cv2.imread(\"/content/drive/My Drive/B00012859_21I6X0_20180531_070210E.JPG\")\n",
        "inputShape = (224, 224)\n",
        "preprocess = preprocess_input"
      ],
      "execution_count": null,
      "outputs": []
    },
    {
      "cell_type": "code",
      "metadata": {
        "id": "AwNktC-qDrx7",
        "outputId": "e313fa78-05f4-4c93-c5e9-3b8b72dfc4b0",
        "colab": {
          "base_uri": "https://localhost:8080/",
          "height": 34
        }
      },
      "source": [
        "print(\"[INFO] loading and preprocessing image...\")\n",
        "image = load_img(\"/content/drive/My Drive/B00012859_21I6X0_20180531_070210E.JPG\", target_size=inputShape)\n",
        "image = img_to_array(image)"
      ],
      "execution_count": null,
      "outputs": [
        {
          "output_type": "stream",
          "text": [
            "[INFO] loading and preprocessing image...\n"
          ],
          "name": "stdout"
        }
      ]
    },
    {
      "cell_type": "code",
      "metadata": {
        "id": "6Np080FlEE2X"
      },
      "source": [
        "image = np.expand_dims(image, axis=0)\n",
        "image = preprocess(image)"
      ],
      "execution_count": null,
      "outputs": []
    },
    {
      "cell_type": "code",
      "metadata": {
        "id": "1ybpjYOLELZv"
      },
      "source": [
        "preds = model.predict(image)"
      ],
      "execution_count": null,
      "outputs": []
    },
    {
      "cell_type": "code",
      "metadata": {
        "id": "KQ5OiT7mE5TF",
        "outputId": "8b8e7ce7-e503-42c7-9ca8-7aed63460cf6",
        "colab": {
          "base_uri": "https://localhost:8080/",
          "height": 1000
        }
      },
      "source": [
        "for i in range(len(mlb.classes_)):\n",
        "    print(\"{}: {:.2f}%\".format(mlb.classes_[i], preds[0][i] * 100))"
      ],
      "execution_count": null,
      "outputs": [
        {
          "output_type": "stream",
          "text": [
            "aged: 0.30%\n",
            "airfield: 0.01%\n",
            "airplane: 0.36%\n",
            "airplane_cabin: 26.43%\n",
            "airport_terminal: 1.12%\n",
            "alcove: 1.40%\n",
            "alley: 0.01%\n",
            "amphitheater: 0.00%\n",
            "amusement_arcade: 0.00%\n",
            "apartment_building/outdoor: 0.01%\n",
            "apple: 0.09%\n",
            "aquarium: 0.13%\n",
            "aqueduct: 0.01%\n",
            "arcade: 0.01%\n",
            "archive: 0.01%\n",
            "arena/performance: 0.11%\n",
            "arena/rodeo: 0.01%\n",
            "art_gallery: 0.02%\n",
            "artists_loft: 0.28%\n",
            "asphalt: 0.39%\n",
            "atrium/public: 0.02%\n",
            "attic: 0.26%\n",
            "auditorium: 0.04%\n",
            "backpack: 0.40%\n",
            "bakery/shop: 0.15%\n",
            "balcony/interior: 0.01%\n",
            "ballroom: 0.00%\n",
            "banana: 0.00%\n",
            "bank_vault: 0.00%\n",
            "banquet_hall: 0.19%\n",
            "bar: 0.00%\n",
            "baseball bat: 0.00%\n",
            "basement: 0.02%\n",
            "bathing: 0.02%\n",
            "bathroom: 0.37%\n",
            "bear: 0.00%\n",
            "beauty_salon: 1.35%\n",
            "bed: 1.21%\n",
            "beer_hall: 0.07%\n",
            "bench: 0.00%\n",
            "berth: 4.93%\n",
            "bicycle: 2.18%\n",
            "biking: 0.10%\n",
            "bird: 1.27%\n",
            "boat: 0.01%\n",
            "boat_deck: 0.00%\n",
            "boating: 0.04%\n",
            "book: 8.62%\n",
            "bookstore: 0.04%\n",
            "booth/indoor: 0.20%\n",
            "bottle: 0.81%\n",
            "bow_window/indoor: 0.08%\n",
            "bowl: 2.91%\n",
            "bowling_alley: 0.86%\n",
            "boxing_ring: 0.05%\n",
            "brick: 0.27%\n",
            "bridge: 0.00%\n",
            "broccoli: 0.30%\n",
            "burial_chamber: 0.01%\n",
            "bus: 0.01%\n",
            "bus_interior: 1.19%\n",
            "bus_station/indoor: 0.06%\n",
            "butchers_shop: 0.00%\n",
            "cake: 0.66%\n",
            "camping: 0.04%\n",
            "campsite: 0.00%\n",
            "canal/urban: 0.00%\n",
            "car: 0.93%\n",
            "car_interior: 14.53%\n",
            "carpet: 4.76%\n",
            "carrot: 0.10%\n",
            "carrousel: 0.01%\n",
            "cat: 0.00%\n",
            "catacomb: 0.27%\n",
            "cell phone: 1.56%\n",
            "cemetery: 0.02%\n",
            "chair: 5.20%\n",
            "chemistry_lab: 0.05%\n",
            "church/indoor: 0.00%\n",
            "classroom: 0.26%\n",
            "clean_room: 0.02%\n",
            "cleaning: 0.11%\n",
            "climbing: 0.18%\n",
            "clock: 2.07%\n",
            "closet: 1.36%\n",
            "cloth: 86.89%\n",
            "clothing_store: 0.00%\n",
            "clouds: 3.31%\n",
            "cluttered space: 0.26%\n",
            "cockpit: 1.46%\n",
            "coffee_shop: 0.04%\n",
            "cold: 0.60%\n",
            "competing: 0.98%\n",
            "computer_room: 0.04%\n",
            "concrete: 0.01%\n",
            "conducting business: 0.05%\n",
            "conference_center: 0.01%\n",
            "conference_room: 0.42%\n",
            "congregating: 7.39%\n",
            "construction_site: 0.02%\n",
            "corridor: 0.55%\n",
            "couch: 0.30%\n",
            "courtyard: 0.00%\n",
            "cow: 0.00%\n",
            "crevasse: 0.04%\n",
            "crosswalk: 0.02%\n",
            "cup: 2.11%\n",
            "dam: 0.02%\n",
            "delicatessen: 0.00%\n",
            "department_store: 0.00%\n",
            "desert/sand: 0.20%\n",
            "desert_road: 0.00%\n",
            "digging: 0.01%\n",
            "dining table: 9.25%\n",
            "dining_room: 0.00%\n",
            "dirt: 0.00%\n",
            "dirty: 0.00%\n",
            "discotheque: 1.25%\n",
            "diving: 0.11%\n",
            "dog: 0.00%\n",
            "donut: 0.01%\n",
            "doorway/outdoor: 0.02%\n",
            "dorm_room: 0.62%\n",
            "dressing_room: 0.00%\n",
            "driveway: 0.01%\n",
            "driving: 3.68%\n",
            "dry: 3.24%\n",
            "eating: 6.72%\n",
            "elephant: 0.00%\n",
            "elevator/door: 4.73%\n",
            "elevator_lobby: 0.84%\n",
            "elevator_shaft: 4.51%\n",
            "embassy: 0.01%\n",
            "enclosed area: 98.82%\n",
            "escalator/indoor: 0.00%\n",
            "exercise: 0.37%\n",
            "fabric_store: 0.01%\n",
            "far-away horizon: 0.11%\n",
            "fastfood_restaurant: 0.02%\n",
            "fire: 0.04%\n",
            "fire hydrant: 0.08%\n",
            "fire_escape: 0.02%\n",
            "fire_station: 0.02%\n",
            "florist_shop/indoor: 0.05%\n",
            "flowers: 0.01%\n",
            "foliage: 1.36%\n",
            "food_court: 0.00%\n",
            "forest_road: 0.06%\n",
            "fork: 0.58%\n",
            "fountain: 0.00%\n",
            "frisbee: 0.00%\n",
            "galley: 0.03%\n",
            "gaming: 0.01%\n",
            "garage/indoor: 0.01%\n",
            "gas_station: 5.26%\n",
            "giraffe: 0.00%\n",
            "glass: 85.39%\n",
            "glossy: 94.19%\n",
            "grass: 1.07%\n",
            "greenhouse/indoor: 0.18%\n",
            "greenhouse/outdoor: 0.02%\n",
            "gymnasium/indoor: 0.00%\n",
            "hair drier: 0.00%\n",
            "handbag: 0.58%\n",
            "hangar/outdoor: 0.24%\n",
            "hardware_store: 0.09%\n",
            "highway: 0.20%\n",
            "hiking: 0.01%\n",
            "home_office: 0.18%\n",
            "home_theater: 0.92%\n",
            "horizontal components: 12.82%\n",
            "horse: 0.05%\n",
            "hospital_room: 0.01%\n",
            "hot dog: 0.13%\n",
            "hotel_room: 0.95%\n",
            "ice: 0.02%\n",
            "ice_cream_parlor: 0.04%\n",
            "ice_skating_rink/outdoor: 0.02%\n",
            "igloo: 0.01%\n",
            "indoor lighting: 94.86%\n",
            "industrial_area: 0.01%\n",
            "jail_cell: 0.15%\n",
            "junkyard: 0.08%\n",
            "kennel/outdoor: 0.02%\n",
            "keyboard: 0.35%\n",
            "kindergarden_classroom: 0.01%\n",
            "kitchen: 0.03%\n",
            "kite: 0.09%\n",
            "knife: 0.56%\n",
            "landing_deck: 0.04%\n",
            "laptop: 2.47%\n",
            "laundromat: 0.01%\n",
            "leaves: 14.41%\n",
            "lecture_room: 0.01%\n",
            "legislative_chamber: 0.07%\n",
            "library/indoor: 0.02%\n",
            "loading_dock: 0.02%\n",
            "lock_chamber: 0.00%\n",
            "locker_room: 0.02%\n",
            "man-made: 99.39%\n",
            "manufactured_home: 0.05%\n",
            "market/indoor: 0.01%\n",
            "martial_arts_gym: 0.60%\n",
            "matte: 82.97%\n",
            "medical activity: 0.24%\n",
            "medina: 0.00%\n",
            "metal: 79.96%\n",
            "mezzanine: 0.01%\n",
            "microwave: 0.62%\n",
            "moist: 0.15%\n",
            "motorcycle: 0.04%\n",
            "mouse: 0.16%\n",
            "movie_theater/indoor: 0.18%\n",
            "music_studio: 0.08%\n",
            "natural: 0.56%\n",
            "natural light: 50.00%\n",
            "natural_history_museum: 0.01%\n",
            "no horizon: 99.24%\n",
            "nursery: 0.08%\n",
            "oast_house: 0.01%\n",
            "ocean: 0.46%\n",
            "office: 0.39%\n",
            "office_cubicles: 0.66%\n",
            "open area: 3.97%\n",
            "operating_room: 0.07%\n",
            "orange: 0.05%\n",
            "orchestra_pit: 0.01%\n",
            "oven: 0.75%\n",
            "pantry: 0.01%\n",
            "paper: 2.05%\n",
            "parking meter: 0.01%\n",
            "parking_garage/indoor: 0.01%\n",
            "parking_garage/outdoor: 0.00%\n",
            "parking_lot: 0.03%\n",
            "pavement: 0.24%\n",
            "person: 83.41%\n",
            "pet_shop: 0.01%\n",
            "pharmacy: 0.00%\n",
            "phone_booth: 0.00%\n",
            "pizza: 0.61%\n",
            "pizzeria: 0.03%\n",
            "plastic: 10.36%\n",
            "playground: 0.00%\n",
            "playing: 0.02%\n",
            "playroom: 0.01%\n",
            "porch: 0.00%\n",
            "potted plant: 2.75%\n",
            "praying: 0.01%\n",
            "promenade: 0.00%\n",
            "racecourse: 0.00%\n",
            "raceway: 0.00%\n",
            "railing: 9.60%\n",
            "railroad: 0.00%\n",
            "rainforest: 0.00%\n",
            "reading: 4.97%\n",
            "reception: 3.38%\n",
            "refrigerator: 0.37%\n",
            "remote: 0.30%\n",
            "research: 0.04%\n",
            "residential_neighborhood: 0.10%\n",
            "restaurant_kitchen: 0.00%\n",
            "rock: 0.00%\n",
            "roof_garden: 0.01%\n",
            "rope_bridge: 0.00%\n",
            "rugged scene: 0.01%\n",
            "running water: 0.18%\n",
            "runway: 0.03%\n",
            "rusty: 0.00%\n",
            "sand: 0.15%\n",
            "sandbox: 0.01%\n",
            "sandwich: 0.07%\n",
            "sauna: 0.02%\n",
            "scary: 0.25%\n",
            "science_museum: 0.01%\n",
            "scissors: 0.02%\n",
            "semi-enclosed area: 2.16%\n",
            "server_room: 0.01%\n",
            "shingles: 0.00%\n",
            "shoe_shop: 0.01%\n",
            "shopping: 2.50%\n",
            "shopping_mall/indoor: 0.05%\n",
            "shower: 0.24%\n",
            "shrubbery: 2.02%\n",
            "sink: 0.31%\n",
            "skateboard: 0.00%\n",
            "ski_slope: 0.02%\n",
            "sky: 0.11%\n",
            "slum: 0.04%\n",
            "smoke: 0.01%\n",
            "snow: 1.30%\n",
            "socializing: 3.62%\n",
            "soothing: 4.47%\n",
            "spectating: 1.50%\n",
            "spoon: 0.36%\n",
            "sports: 0.36%\n",
            "sports ball: 0.01%\n",
            "stage/indoor: 0.02%\n",
            "stage/outdoor: 0.03%\n",
            "staircase: 0.01%\n",
            "sterile: 0.64%\n",
            "still water: 0.00%\n",
            "stop sign: 0.01%\n",
            "storage_room: 0.01%\n",
            "street: 0.01%\n",
            "stressful: 0.69%\n",
            "studying: 0.10%\n",
            "subway_station/platform: 0.09%\n",
            "suitcase: 3.23%\n",
            "sunny: 1.37%\n",
            "supermarket: 0.25%\n",
            "surfboard: 0.00%\n",
            "sushi_bar: 0.13%\n",
            "swimming: 0.02%\n",
            "symmetrical: 8.57%\n",
            "teddy bear: 0.01%\n",
            "television_room: 2.94%\n",
            "television_studio: 0.08%\n",
            "tennis racket: 0.00%\n",
            "ticket_booth: 0.02%\n",
            "tie: 0.22%\n",
            "tiles: 0.58%\n",
            "toaster: 0.00%\n",
            "toilet: 0.46%\n",
            "toothbrush: 0.18%\n",
            "touring: 0.10%\n",
            "traffic light: 0.66%\n",
            "train: 0.57%\n",
            "train_interior: 0.03%\n",
            "train_station/platform: 0.63%\n",
            "training: 0.44%\n",
            "transporting: 4.66%\n",
            "trees: 2.11%\n",
            "truck: 0.24%\n",
            "tv: 2.46%\n",
            "umbrella: 0.04%\n",
            "underwater/ocean_deep: 0.01%\n",
            "using tools: 0.18%\n",
            "utility_room: 0.57%\n",
            "vase: 0.38%\n",
            "vegetation: 1.08%\n",
            "vertical components: 41.91%\n",
            "veterinarians_office: 0.15%\n",
            "vinyl: 1.40%\n",
            "volcano: 0.01%\n",
            "volleyball_court/outdoor: 0.02%\n",
            "waiting in line: 0.25%\n",
            "waiting_room: 0.03%\n",
            "warm: 0.54%\n",
            "wet_bar: 0.01%\n",
            "windmill: 0.18%\n",
            "wine glass: 0.36%\n",
            "wire: 0.10%\n",
            "wood: 81.62%\n",
            "working: 41.27%\n",
            "youth_hostel: 0.01%\n",
            "zebra: 0.00%\n",
            "zen_garden: 0.00%\n"
          ],
          "name": "stdout"
        }
      ]
    }
  ]
}